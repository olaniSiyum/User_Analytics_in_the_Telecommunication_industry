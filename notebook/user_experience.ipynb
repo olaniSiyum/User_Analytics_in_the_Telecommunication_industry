{
 "cells": [
  {
   "cell_type": "markdown",
   "metadata": {},
   "source": [
    "### importing packages"
   ]
  },
  {
   "cell_type": "code",
   "execution_count": 1,
   "metadata": {},
   "outputs": [],
   "source": [
    "import pandas as pd\n",
    "import numpy as np\n",
    "import matplotlib.pyplot as plt\n",
    "from sklearn.cluster import KMeans\n",
    "import seaborn as sns\n",
    "import sys\n",
    "import os\n",
    "\n",
    "sys.path.append(os.path.abspath(os.path.join(\"../script\")))\n",
    "from utils import percent_missing,format_float, find_agg, missing_values_table,convert_bytes_to_megabytes,fix_missing_ffill,fix_missing_bfill"
   ]
  },
  {
   "cell_type": "code",
   "execution_count": 2,
   "metadata": {},
   "outputs": [],
   "source": [
    "from sqlalchemy import create_engine\n",
    "\n",
    "database_name = 'week1'\n",
    "table_name= 'xdr_data'\n",
    "\n",
    "connection_params = { \"host\": \"localhost\", \"user\": \"postgres\", \"password\": \"pgadmin\",\n",
    "                    \"port\": \"5432\", \"database\": database_name}\n",
    "\n",
    "engine = create_engine(f\"postgresql+psycopg2://{connection_params['user']}:{connection_params['password']}@{connection_params['host']}:{connection_params['port']}/{connection_params['database']}\")\n",
    "\n",
    "# str or SQLAlchemy Selectable (select or text object)\n",
    "sql_query = 'SELECT * FROM xdr_data'\n",
    "\n",
    "df = pd.read_sql(sql_query, con= engine)"
   ]
  },
  {
   "cell_type": "code",
   "execution_count": 3,
   "metadata": {},
   "outputs": [
    {
     "data": {
      "text/plain": [
       "Index(['Bearer Id', 'Start', 'Start ms', 'End', 'End ms', 'Dur. (ms)', 'IMSI',\n",
       "       'MSISDN/Number', 'IMEI', 'Last Location Name', 'Avg RTT DL (ms)',\n",
       "       'Avg RTT UL (ms)', 'Avg Bearer TP DL (kbps)', 'Avg Bearer TP UL (kbps)',\n",
       "       'TCP DL Retrans. Vol (Bytes)', 'TCP UL Retrans. Vol (Bytes)',\n",
       "       'DL TP < 50 Kbps (%)', '50 Kbps < DL TP < 250 Kbps (%)',\n",
       "       '250 Kbps < DL TP < 1 Mbps (%)', 'DL TP > 1 Mbps (%)',\n",
       "       'UL TP < 10 Kbps (%)', '10 Kbps < UL TP < 50 Kbps (%)',\n",
       "       '50 Kbps < UL TP < 300 Kbps (%)', 'UL TP > 300 Kbps (%)',\n",
       "       'HTTP DL (Bytes)', 'HTTP UL (Bytes)', 'Activity Duration DL (ms)',\n",
       "       'Activity Duration UL (ms)', 'Dur. (ms).1', 'Handset Manufacturer',\n",
       "       'Handset Type', 'Nb of sec with 125000B < Vol DL',\n",
       "       'Nb of sec with 1250B < Vol UL < 6250B',\n",
       "       'Nb of sec with 31250B < Vol DL < 125000B',\n",
       "       'Nb of sec with 37500B < Vol UL',\n",
       "       'Nb of sec with 6250B < Vol DL < 31250B',\n",
       "       'Nb of sec with 6250B < Vol UL < 37500B',\n",
       "       'Nb of sec with Vol DL < 6250B', 'Nb of sec with Vol UL < 1250B',\n",
       "       'Social Media DL (Bytes)', 'Social Media UL (Bytes)',\n",
       "       'Google DL (Bytes)', 'Google UL (Bytes)', 'Email DL (Bytes)',\n",
       "       'Email UL (Bytes)', 'Youtube DL (Bytes)', 'Youtube UL (Bytes)',\n",
       "       'Netflix DL (Bytes)', 'Netflix UL (Bytes)', 'Gaming DL (Bytes)',\n",
       "       'Gaming UL (Bytes)', 'Other DL (Bytes)', 'Other UL (Bytes)',\n",
       "       'Total UL (Bytes)', 'Total DL (Bytes)'],\n",
       "      dtype='object')"
      ]
     },
     "execution_count": 3,
     "metadata": {},
     "output_type": "execute_result"
    }
   ],
   "source": [
    "df.columns"
   ]
  },
  {
   "cell_type": "code",
   "execution_count": 4,
   "metadata": {},
   "outputs": [],
   "source": [
    "selected_columns = [\n",
    "    'MSISDN/Number',\n",
    "    'TCP DL Retrans. Vol (Bytes)',\n",
    "    'TCP UL Retrans. Vol (Bytes)',\n",
    "    'Avg RTT DL (ms)', 'Avg RTT UL (ms)',\n",
    "    'Avg Bearer TP UL (kbps)', 'Avg Bearer TP DL (kbps)',\n",
    "    'Handset Type']"
   ]
  },
  {
   "cell_type": "code",
   "execution_count": 5,
   "metadata": {},
   "outputs": [
    {
     "data": {
      "text/html": [
       "<div>\n",
       "<style scoped>\n",
       "    .dataframe tbody tr th:only-of-type {\n",
       "        vertical-align: middle;\n",
       "    }\n",
       "\n",
       "    .dataframe tbody tr th {\n",
       "        vertical-align: top;\n",
       "    }\n",
       "\n",
       "    .dataframe thead th {\n",
       "        text-align: right;\n",
       "    }\n",
       "</style>\n",
       "<table border=\"1\" class=\"dataframe\">\n",
       "  <thead>\n",
       "    <tr style=\"text-align: right;\">\n",
       "      <th></th>\n",
       "      <th>MSISDN/Number</th>\n",
       "      <th>TCP DL Retrans. Vol (Bytes)</th>\n",
       "      <th>TCP UL Retrans. Vol (Bytes)</th>\n",
       "      <th>Avg RTT DL (ms)</th>\n",
       "      <th>Avg RTT UL (ms)</th>\n",
       "      <th>Avg Bearer TP UL (kbps)</th>\n",
       "      <th>Avg Bearer TP DL (kbps)</th>\n",
       "      <th>Handset Type</th>\n",
       "    </tr>\n",
       "  </thead>\n",
       "  <tbody>\n",
       "    <tr>\n",
       "      <th>0</th>\n",
       "      <td>3.366496e+10</td>\n",
       "      <td>NaN</td>\n",
       "      <td>NaN</td>\n",
       "      <td>42.0</td>\n",
       "      <td>5.0</td>\n",
       "      <td>44.0</td>\n",
       "      <td>23.0</td>\n",
       "      <td>Samsung Galaxy A5 Sm-A520F</td>\n",
       "    </tr>\n",
       "    <tr>\n",
       "      <th>1</th>\n",
       "      <td>3.368185e+10</td>\n",
       "      <td>NaN</td>\n",
       "      <td>NaN</td>\n",
       "      <td>65.0</td>\n",
       "      <td>5.0</td>\n",
       "      <td>26.0</td>\n",
       "      <td>16.0</td>\n",
       "      <td>Samsung Galaxy J5 (Sm-J530)</td>\n",
       "    </tr>\n",
       "    <tr>\n",
       "      <th>2</th>\n",
       "      <td>3.376063e+10</td>\n",
       "      <td>NaN</td>\n",
       "      <td>NaN</td>\n",
       "      <td>NaN</td>\n",
       "      <td>NaN</td>\n",
       "      <td>9.0</td>\n",
       "      <td>6.0</td>\n",
       "      <td>Samsung Galaxy A8 (2018)</td>\n",
       "    </tr>\n",
       "    <tr>\n",
       "      <th>3</th>\n",
       "      <td>3.375034e+10</td>\n",
       "      <td>NaN</td>\n",
       "      <td>NaN</td>\n",
       "      <td>NaN</td>\n",
       "      <td>NaN</td>\n",
       "      <td>44.0</td>\n",
       "      <td>44.0</td>\n",
       "      <td>undefined</td>\n",
       "    </tr>\n",
       "    <tr>\n",
       "      <th>4</th>\n",
       "      <td>3.369980e+10</td>\n",
       "      <td>NaN</td>\n",
       "      <td>NaN</td>\n",
       "      <td>NaN</td>\n",
       "      <td>NaN</td>\n",
       "      <td>9.0</td>\n",
       "      <td>6.0</td>\n",
       "      <td>Samsung Sm-G390F</td>\n",
       "    </tr>\n",
       "    <tr>\n",
       "      <th>...</th>\n",
       "      <td>...</td>\n",
       "      <td>...</td>\n",
       "      <td>...</td>\n",
       "      <td>...</td>\n",
       "      <td>...</td>\n",
       "      <td>...</td>\n",
       "      <td>...</td>\n",
       "      <td>...</td>\n",
       "    </tr>\n",
       "    <tr>\n",
       "      <th>149996</th>\n",
       "      <td>3.365069e+10</td>\n",
       "      <td>NaN</td>\n",
       "      <td>NaN</td>\n",
       "      <td>32.0</td>\n",
       "      <td>0.0</td>\n",
       "      <td>65.0</td>\n",
       "      <td>52.0</td>\n",
       "      <td>Apple iPhone 8 Plus (A1897)</td>\n",
       "    </tr>\n",
       "    <tr>\n",
       "      <th>149997</th>\n",
       "      <td>3.366345e+10</td>\n",
       "      <td>NaN</td>\n",
       "      <td>NaN</td>\n",
       "      <td>27.0</td>\n",
       "      <td>2.0</td>\n",
       "      <td>54.0</td>\n",
       "      <td>23.0</td>\n",
       "      <td>Apple iPhone Se (A1723)</td>\n",
       "    </tr>\n",
       "    <tr>\n",
       "      <th>149998</th>\n",
       "      <td>3.362189e+10</td>\n",
       "      <td>NaN</td>\n",
       "      <td>NaN</td>\n",
       "      <td>43.0</td>\n",
       "      <td>6.0</td>\n",
       "      <td>47.0</td>\n",
       "      <td>43.0</td>\n",
       "      <td>Apple iPhone Xs (A2097)</td>\n",
       "    </tr>\n",
       "    <tr>\n",
       "      <th>149999</th>\n",
       "      <td>3.361962e+10</td>\n",
       "      <td>NaN</td>\n",
       "      <td>NaN</td>\n",
       "      <td>37.0</td>\n",
       "      <td>5.0</td>\n",
       "      <td>37.0</td>\n",
       "      <td>34.0</td>\n",
       "      <td>Huawei Fig-Lx1</td>\n",
       "    </tr>\n",
       "    <tr>\n",
       "      <th>150000</th>\n",
       "      <td>NaN</td>\n",
       "      <td>NaN</td>\n",
       "      <td>NaN</td>\n",
       "      <td>NaN</td>\n",
       "      <td>NaN</td>\n",
       "      <td>NaN</td>\n",
       "      <td>NaN</td>\n",
       "      <td>None</td>\n",
       "    </tr>\n",
       "  </tbody>\n",
       "</table>\n",
       "<p>150001 rows × 8 columns</p>\n",
       "</div>"
      ],
      "text/plain": [
       "        MSISDN/Number  TCP DL Retrans. Vol (Bytes)  \\\n",
       "0        3.366496e+10                          NaN   \n",
       "1        3.368185e+10                          NaN   \n",
       "2        3.376063e+10                          NaN   \n",
       "3        3.375034e+10                          NaN   \n",
       "4        3.369980e+10                          NaN   \n",
       "...               ...                          ...   \n",
       "149996   3.365069e+10                          NaN   \n",
       "149997   3.366345e+10                          NaN   \n",
       "149998   3.362189e+10                          NaN   \n",
       "149999   3.361962e+10                          NaN   \n",
       "150000            NaN                          NaN   \n",
       "\n",
       "        TCP UL Retrans. Vol (Bytes)  Avg RTT DL (ms)  Avg RTT UL (ms)  \\\n",
       "0                               NaN             42.0              5.0   \n",
       "1                               NaN             65.0              5.0   \n",
       "2                               NaN              NaN              NaN   \n",
       "3                               NaN              NaN              NaN   \n",
       "4                               NaN              NaN              NaN   \n",
       "...                             ...              ...              ...   \n",
       "149996                          NaN             32.0              0.0   \n",
       "149997                          NaN             27.0              2.0   \n",
       "149998                          NaN             43.0              6.0   \n",
       "149999                          NaN             37.0              5.0   \n",
       "150000                          NaN              NaN              NaN   \n",
       "\n",
       "        Avg Bearer TP UL (kbps)  Avg Bearer TP DL (kbps)  \\\n",
       "0                          44.0                     23.0   \n",
       "1                          26.0                     16.0   \n",
       "2                           9.0                      6.0   \n",
       "3                          44.0                     44.0   \n",
       "4                           9.0                      6.0   \n",
       "...                         ...                      ...   \n",
       "149996                     65.0                     52.0   \n",
       "149997                     54.0                     23.0   \n",
       "149998                     47.0                     43.0   \n",
       "149999                     37.0                     34.0   \n",
       "150000                      NaN                      NaN   \n",
       "\n",
       "                       Handset Type  \n",
       "0        Samsung Galaxy A5 Sm-A520F  \n",
       "1       Samsung Galaxy J5 (Sm-J530)  \n",
       "2          Samsung Galaxy A8 (2018)  \n",
       "3                         undefined  \n",
       "4                  Samsung Sm-G390F  \n",
       "...                             ...  \n",
       "149996  Apple iPhone 8 Plus (A1897)  \n",
       "149997      Apple iPhone Se (A1723)  \n",
       "149998      Apple iPhone Xs (A2097)  \n",
       "149999               Huawei Fig-Lx1  \n",
       "150000                         None  \n",
       "\n",
       "[150001 rows x 8 columns]"
      ]
     },
     "execution_count": 5,
     "metadata": {},
     "output_type": "execute_result"
    }
   ],
   "source": [
    "selected_df = df[selected_columns]\n",
    "selected_df"
   ]
  },
  {
   "cell_type": "code",
   "execution_count": 8,
   "metadata": {},
   "outputs": [
    {
     "data": {
      "text/html": [
       "<div>\n",
       "<style scoped>\n",
       "    .dataframe tbody tr th:only-of-type {\n",
       "        vertical-align: middle;\n",
       "    }\n",
       "\n",
       "    .dataframe tbody tr th {\n",
       "        vertical-align: top;\n",
       "    }\n",
       "\n",
       "    .dataframe thead th {\n",
       "        text-align: right;\n",
       "    }\n",
       "</style>\n",
       "<table border=\"1\" class=\"dataframe\">\n",
       "  <thead>\n",
       "    <tr style=\"text-align: right;\">\n",
       "      <th></th>\n",
       "      <th>MSISDN/Number</th>\n",
       "      <th>TCP DL Retrans. Vol (Bytes)</th>\n",
       "      <th>TCP UL Retrans. Vol (Bytes)</th>\n",
       "      <th>Avg RTT DL (ms)</th>\n",
       "      <th>Avg RTT UL (ms)</th>\n",
       "      <th>Avg Bearer TP UL (kbps)</th>\n",
       "      <th>Avg Bearer TP DL (kbps)</th>\n",
       "      <th>Handset Type</th>\n",
       "    </tr>\n",
       "  </thead>\n",
       "  <tbody>\n",
       "    <tr>\n",
       "      <th>0</th>\n",
       "      <td>3.360100e+10</td>\n",
       "      <td>2.080991e+07</td>\n",
       "      <td>759658.664811</td>\n",
       "      <td>46.000000</td>\n",
       "      <td>0.000000</td>\n",
       "      <td>39.0</td>\n",
       "      <td>37.0</td>\n",
       "      <td>Huawei P20 Lite Huawei Nova 3E</td>\n",
       "    </tr>\n",
       "    <tr>\n",
       "      <th>1</th>\n",
       "      <td>3.360100e+10</td>\n",
       "      <td>2.080991e+07</td>\n",
       "      <td>759658.664811</td>\n",
       "      <td>30.000000</td>\n",
       "      <td>1.000000</td>\n",
       "      <td>51.0</td>\n",
       "      <td>48.0</td>\n",
       "      <td>Apple iPhone 7 (A1778)</td>\n",
       "    </tr>\n",
       "    <tr>\n",
       "      <th>2</th>\n",
       "      <td>3.360100e+10</td>\n",
       "      <td>2.080991e+07</td>\n",
       "      <td>759658.664811</td>\n",
       "      <td>109.795706</td>\n",
       "      <td>17.662883</td>\n",
       "      <td>49.0</td>\n",
       "      <td>48.0</td>\n",
       "      <td>undefined</td>\n",
       "    </tr>\n",
       "    <tr>\n",
       "      <th>3</th>\n",
       "      <td>3.360101e+10</td>\n",
       "      <td>1.066000e+03</td>\n",
       "      <td>759658.664811</td>\n",
       "      <td>69.000000</td>\n",
       "      <td>15.000000</td>\n",
       "      <td>44.0</td>\n",
       "      <td>204.0</td>\n",
       "      <td>Apple iPhone 5S (A1457)</td>\n",
       "    </tr>\n",
       "    <tr>\n",
       "      <th>4</th>\n",
       "      <td>3.360101e+10</td>\n",
       "      <td>1.507977e+07</td>\n",
       "      <td>390430.332406</td>\n",
       "      <td>57.000000</td>\n",
       "      <td>2.500000</td>\n",
       "      <td>8224.5</td>\n",
       "      <td>20197.5</td>\n",
       "      <td>Apple iPhone Se (A1723)</td>\n",
       "    </tr>\n",
       "    <tr>\n",
       "      <th>...</th>\n",
       "      <td>...</td>\n",
       "      <td>...</td>\n",
       "      <td>...</td>\n",
       "      <td>...</td>\n",
       "      <td>...</td>\n",
       "      <td>...</td>\n",
       "      <td>...</td>\n",
       "      <td>...</td>\n",
       "    </tr>\n",
       "    <tr>\n",
       "      <th>106851</th>\n",
       "      <td>3.379000e+10</td>\n",
       "      <td>2.150440e+05</td>\n",
       "      <td>3001.000000</td>\n",
       "      <td>42.000000</td>\n",
       "      <td>10.000000</td>\n",
       "      <td>387.0</td>\n",
       "      <td>9978.0</td>\n",
       "      <td>Huawei Honor 9 Lite</td>\n",
       "    </tr>\n",
       "    <tr>\n",
       "      <th>106852</th>\n",
       "      <td>3.379000e+10</td>\n",
       "      <td>2.080991e+07</td>\n",
       "      <td>759658.664811</td>\n",
       "      <td>34.000000</td>\n",
       "      <td>6.000000</td>\n",
       "      <td>48.0</td>\n",
       "      <td>68.0</td>\n",
       "      <td>Apple iPhone 8 Plus (A1897)</td>\n",
       "    </tr>\n",
       "    <tr>\n",
       "      <th>106853</th>\n",
       "      <td>3.197021e+12</td>\n",
       "      <td>2.080991e+07</td>\n",
       "      <td>759658.664811</td>\n",
       "      <td>109.795706</td>\n",
       "      <td>17.662883</td>\n",
       "      <td>0.0</td>\n",
       "      <td>1.0</td>\n",
       "      <td>Quectel Wireless. Quectel Ec25-E</td>\n",
       "    </tr>\n",
       "    <tr>\n",
       "      <th>106854</th>\n",
       "      <td>3.370000e+14</td>\n",
       "      <td>2.080991e+07</td>\n",
       "      <td>759658.664811</td>\n",
       "      <td>109.795706</td>\n",
       "      <td>17.662883</td>\n",
       "      <td>22.0</td>\n",
       "      <td>11.0</td>\n",
       "      <td>Huawei B525S-23A</td>\n",
       "    </tr>\n",
       "    <tr>\n",
       "      <th>106855</th>\n",
       "      <td>8.823971e+14</td>\n",
       "      <td>2.080991e+07</td>\n",
       "      <td>759658.664811</td>\n",
       "      <td>109.795706</td>\n",
       "      <td>17.662883</td>\n",
       "      <td>0.0</td>\n",
       "      <td>2.0</td>\n",
       "      <td>Quectel Wireless. Quectel Ec21-E</td>\n",
       "    </tr>\n",
       "  </tbody>\n",
       "</table>\n",
       "<p>106856 rows × 8 columns</p>\n",
       "</div>"
      ],
      "text/plain": [
       "        MSISDN/Number  TCP DL Retrans. Vol (Bytes)  \\\n",
       "0        3.360100e+10                 2.080991e+07   \n",
       "1        3.360100e+10                 2.080991e+07   \n",
       "2        3.360100e+10                 2.080991e+07   \n",
       "3        3.360101e+10                 1.066000e+03   \n",
       "4        3.360101e+10                 1.507977e+07   \n",
       "...               ...                          ...   \n",
       "106851   3.379000e+10                 2.150440e+05   \n",
       "106852   3.379000e+10                 2.080991e+07   \n",
       "106853   3.197021e+12                 2.080991e+07   \n",
       "106854   3.370000e+14                 2.080991e+07   \n",
       "106855   8.823971e+14                 2.080991e+07   \n",
       "\n",
       "        TCP UL Retrans. Vol (Bytes)  Avg RTT DL (ms)  Avg RTT UL (ms)  \\\n",
       "0                     759658.664811        46.000000         0.000000   \n",
       "1                     759658.664811        30.000000         1.000000   \n",
       "2                     759658.664811       109.795706        17.662883   \n",
       "3                     759658.664811        69.000000        15.000000   \n",
       "4                     390430.332406        57.000000         2.500000   \n",
       "...                             ...              ...              ...   \n",
       "106851                  3001.000000        42.000000        10.000000   \n",
       "106852                759658.664811        34.000000         6.000000   \n",
       "106853                759658.664811       109.795706        17.662883   \n",
       "106854                759658.664811       109.795706        17.662883   \n",
       "106855                759658.664811       109.795706        17.662883   \n",
       "\n",
       "        Avg Bearer TP UL (kbps)  Avg Bearer TP DL (kbps)  \\\n",
       "0                          39.0                     37.0   \n",
       "1                          51.0                     48.0   \n",
       "2                          49.0                     48.0   \n",
       "3                          44.0                    204.0   \n",
       "4                        8224.5                  20197.5   \n",
       "...                         ...                      ...   \n",
       "106851                    387.0                   9978.0   \n",
       "106852                     48.0                     68.0   \n",
       "106853                      0.0                      1.0   \n",
       "106854                     22.0                     11.0   \n",
       "106855                      0.0                      2.0   \n",
       "\n",
       "                            Handset Type  \n",
       "0         Huawei P20 Lite Huawei Nova 3E  \n",
       "1                 Apple iPhone 7 (A1778)  \n",
       "2                              undefined  \n",
       "3                Apple iPhone 5S (A1457)  \n",
       "4                Apple iPhone Se (A1723)  \n",
       "...                                  ...  \n",
       "106851               Huawei Honor 9 Lite  \n",
       "106852       Apple iPhone 8 Plus (A1897)  \n",
       "106853  Quectel Wireless. Quectel Ec25-E  \n",
       "106854                  Huawei B525S-23A  \n",
       "106855  Quectel Wireless. Quectel Ec21-E  \n",
       "\n",
       "[106856 rows x 8 columns]"
      ]
     },
     "execution_count": 8,
     "metadata": {},
     "output_type": "execute_result"
    }
   ],
   "source": [
    "# Replace missing values with the mean for numerical columns (TCP retransmission, RTT, throughput)\n",
    "numeric_columns = ['TCP DL Retrans. Vol (Bytes)', 'TCP UL Retrans. Vol (Bytes)',\n",
    "                   'Avg RTT DL (ms)', 'Avg RTT UL (ms)',\n",
    "                   'Avg Bearer TP UL (kbps)', 'Avg Bearer TP DL (kbps)']\n",
    "\n",
    "for col in numeric_columns:\n",
    "    df[col].fillna(df[col].mean(), inplace=True)\n",
    "\n",
    "# Replace missing handset type values with the mode (most frequent)\n",
    "df['Handset Type'].fillna(df['Handset Type'].mode()[0], inplace=True)\n",
    "\n",
    "# Aggregate information per customer\n",
    "aggregated_data = df.groupby('MSISDN/Number').agg({\n",
    "    'TCP DL Retrans. Vol (Bytes)': 'mean',\n",
    "    'TCP UL Retrans. Vol (Bytes)': 'mean',\n",
    "    'Avg RTT DL (ms)': 'mean',\n",
    "    'Avg RTT UL (ms)': 'mean',\n",
    "    'Avg Bearer TP UL (kbps)': 'mean',\n",
    "    'Avg Bearer TP DL (kbps)': 'mean',\n",
    "    'Handset Type': lambda x: x.mode()[0]  # Get the most frequent handset type per customer\n",
    "}).reset_index()\n",
    "\n",
    "# Displaying the aggregated data\n",
    "aggregated_data\n"
   ]
  },
  {
   "cell_type": "markdown",
   "metadata": {},
   "source": [
    "# Top, bottom, and most frequent values for TCP, RTT, and Throughput"
   ]
  },
  {
   "cell_type": "code",
   "execution_count": 9,
   "metadata": {},
   "outputs": [],
   "source": [
    "# Task 4.2 - Top, bottom, and most frequent values for TCP, RTT, and Throughput\n",
    "top_10_TCP = df['TCP DL Retrans. Vol (Bytes)'].nlargest(10)\n",
    "bottom_10_TCP = df['TCP DL Retrans. Vol (Bytes)'].nsmallest(10)\n",
    "most_frequent_TCP = df['TCP DL Retrans. Vol (Bytes)'].value_counts().head(10)\n",
    "\n",
    "top_10_RTT = df['Avg RTT DL (ms)'].nlargest(10)\n",
    "bottom_10_RTT = df['Avg RTT DL (ms)'].nsmallest(10)\n",
    "most_frequent_RTT = df['Avg RTT DL (ms)'].value_counts().head(10)\n",
    "\n",
    "top_10_throughput = df['Avg Bearer TP DL (kbps)'].nlargest(10)\n",
    "bottom_10_throughput = df['Avg Bearer TP DL (kbps)'].nsmallest(10)\n",
    "most_frequent_throughput = df['Avg Bearer TP DL (kbps)'].value_counts().head(10)\n"
   ]
  },
  {
   "cell_type": "code",
   "execution_count": 10,
   "metadata": {},
   "outputs": [
    {
     "data": {
      "text/plain": [
       "77979     4.294426e+09\n",
       "135678    4.291380e+09\n",
       "34645     4.289877e+09\n",
       "140813    4.289488e+09\n",
       "3782      4.288060e+09\n",
       "119684    4.275259e+09\n",
       "39637     4.268432e+09\n",
       "76990     4.259997e+09\n",
       "59016     4.256650e+09\n",
       "41209     4.254644e+09\n",
       "Name: TCP DL Retrans. Vol (Bytes), dtype: float64"
      ]
     },
     "execution_count": 10,
     "metadata": {},
     "output_type": "execute_result"
    }
   ],
   "source": [
    "top_10_TCP"
   ]
  },
  {
   "cell_type": "code",
   "execution_count": 11,
   "metadata": {},
   "outputs": [
    {
     "data": {
      "text/plain": [
       "59717     2.0\n",
       "125094    2.0\n",
       "2850      4.0\n",
       "39610     4.0\n",
       "52488     4.0\n",
       "60376     4.0\n",
       "60426     4.0\n",
       "75093     4.0\n",
       "100314    4.0\n",
       "143429    4.0\n",
       "Name: TCP DL Retrans. Vol (Bytes), dtype: float64"
      ]
     },
     "execution_count": 11,
     "metadata": {},
     "output_type": "execute_result"
    }
   ],
   "source": [
    "bottom_10_TCP"
   ]
  },
  {
   "cell_type": "code",
   "execution_count": 18,
   "metadata": {},
   "outputs": [
    {
     "data": {
      "text/plain": [
       "TCP DL Retrans. Vol (Bytes)\n",
       "2.080991e+07    88146\n",
       "1.330000e+03      433\n",
       "2.660000e+03      219\n",
       "3.800000e+01      200\n",
       "9.200000e+01      192\n",
       "1.318000e+03      156\n",
       "5.430000e+02      133\n",
       "3.990000e+03      114\n",
       "7.600000e+01      108\n",
       "5.320000e+03      102\n",
       "Name: count, dtype: int64"
      ]
     },
     "execution_count": 18,
     "metadata": {},
     "output_type": "execute_result"
    }
   ],
   "source": [
    "most_frequent_TCP"
   ]
  },
  {
   "cell_type": "code",
   "execution_count": 13,
   "metadata": {},
   "outputs": [
    {
     "data": {
      "text/plain": [
       "30166     96923.0\n",
       "29927     64640.0\n",
       "17910     55811.0\n",
       "5989      54847.0\n",
       "22851     26971.0\n",
       "23455     26250.0\n",
       "1373      25873.0\n",
       "81274     25602.0\n",
       "97321     25374.0\n",
       "100584    24733.0\n",
       "Name: Avg RTT DL (ms), dtype: float64"
      ]
     },
     "execution_count": 13,
     "metadata": {},
     "output_type": "execute_result"
    }
   ],
   "source": [
    "top_10_RTT"
   ]
  },
  {
   "cell_type": "code",
   "execution_count": 12,
   "metadata": {},
   "outputs": [
    {
     "data": {
      "text/plain": [
       "42612     0.0\n",
       "52225     0.0\n",
       "60152     0.0\n",
       "61152     0.0\n",
       "61345     0.0\n",
       "103328    0.0\n",
       "124544    0.0\n",
       "142526    0.0\n",
       "143878    0.0\n",
       "71739     2.0\n",
       "Name: Avg RTT DL (ms), dtype: float64"
      ]
     },
     "execution_count": 12,
     "metadata": {},
     "output_type": "execute_result"
    }
   ],
   "source": [
    "bottom_10_RTT"
   ]
  },
  {
   "cell_type": "code",
   "execution_count": 17,
   "metadata": {},
   "outputs": [
    {
     "data": {
      "text/plain": [
       "Avg RTT DL (ms)\n",
       "109.795706    27829\n",
       "28.000000      3553\n",
       "27.000000      3380\n",
       "34.000000      3296\n",
       "35.000000      2892\n",
       "37.000000      2718\n",
       "36.000000      2645\n",
       "38.000000      2547\n",
       "29.000000      2498\n",
       "26.000000      2488\n",
       "Name: count, dtype: int64"
      ]
     },
     "execution_count": 17,
     "metadata": {},
     "output_type": "execute_result"
    }
   ],
   "source": [
    "most_frequent_RTT"
   ]
  },
  {
   "cell_type": "code",
   "execution_count": 16,
   "metadata": {},
   "outputs": [
    {
     "data": {
      "text/plain": [
       "120890    378160.0\n",
       "141262    299257.0\n",
       "143670    299002.0\n",
       "149617    276040.0\n",
       "92193     269362.0\n",
       "117791    266332.0\n",
       "115850    265440.0\n",
       "89577     264448.0\n",
       "116565    263047.0\n",
       "41576     254253.0\n",
       "Name: Avg Bearer TP DL (kbps), dtype: float64"
      ]
     },
     "execution_count": 16,
     "metadata": {},
     "output_type": "execute_result"
    }
   ],
   "source": [
    "top_10_throughput"
   ]
  },
  {
   "cell_type": "code",
   "execution_count": 15,
   "metadata": {},
   "outputs": [
    {
     "data": {
      "text/plain": [
       "13      0.0\n",
       "149     0.0\n",
       "364     0.0\n",
       "546     0.0\n",
       "618     0.0\n",
       "679     0.0\n",
       "756     0.0\n",
       "809     0.0\n",
       "893     0.0\n",
       "1185    0.0\n",
       "Name: Avg Bearer TP DL (kbps), dtype: float64"
      ]
     },
     "execution_count": 15,
     "metadata": {},
     "output_type": "execute_result"
    }
   ],
   "source": [
    "bottom_10_throughput"
   ]
  },
  {
   "cell_type": "code",
   "execution_count": 14,
   "metadata": {},
   "outputs": [
    {
     "data": {
      "text/plain": [
       "Avg Bearer TP DL (kbps)\n",
       "23.0    7324\n",
       "43.0    4352\n",
       "44.0    4186\n",
       "6.0     3983\n",
       "22.0    2867\n",
       "48.0    2778\n",
       "63.0    2757\n",
       "42.0    2689\n",
       "45.0    2644\n",
       "47.0    2263\n",
       "Name: count, dtype: int64"
      ]
     },
     "execution_count": 14,
     "metadata": {},
     "output_type": "execute_result"
    }
   ],
   "source": [
    "most_frequent_throughput"
   ]
  },
  {
   "cell_type": "code",
   "execution_count": null,
   "metadata": {},
   "outputs": [],
   "source": []
  },
  {
   "cell_type": "code",
   "execution_count": null,
   "metadata": {},
   "outputs": [],
   "source": []
  },
  {
   "cell_type": "code",
   "execution_count": null,
   "metadata": {},
   "outputs": [],
   "source": []
  },
  {
   "cell_type": "code",
   "execution_count": null,
   "metadata": {},
   "outputs": [],
   "source": []
  },
  {
   "cell_type": "code",
   "execution_count": null,
   "metadata": {},
   "outputs": [],
   "source": []
  },
  {
   "cell_type": "code",
   "execution_count": null,
   "metadata": {},
   "outputs": [],
   "source": []
  }
 ],
 "metadata": {
  "kernelspec": {
   "display_name": "Python 3",
   "language": "python",
   "name": "python3"
  },
  "language_info": {
   "codemirror_mode": {
    "name": "ipython",
    "version": 3
   },
   "file_extension": ".py",
   "mimetype": "text/x-python",
   "name": "python",
   "nbconvert_exporter": "python",
   "pygments_lexer": "ipython3",
   "version": "3.8.10"
  }
 },
 "nbformat": 4,
 "nbformat_minor": 2
}
